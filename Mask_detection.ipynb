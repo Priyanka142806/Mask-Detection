{
  "cells": [
    {
      "cell_type": "code",
      "execution_count": null,
      "metadata": {
        "colab": {
          "base_uri": "https://localhost:8080/"
        },
        "id": "HUQUryqSbQoZ",
        "outputId": "de8714dd-6775-40e8-9e14-1df931a1e9b2"
      },
      "outputs": [
        {
          "name": "stdout",
          "output_type": "stream",
          "text": [
            "Drive already mounted at /content/drive; to attempt to forcibly remount, call drive.mount(\"/content/drive\", force_remount=True).\n"
          ]
        }
      ],
      "source": [
        "from google.colab import drive\n",
        "drive.mount('/content/drive')"
      ]
    },
    {
      "cell_type": "code",
      "execution_count": null,
      "metadata": {
        "colab": {
          "base_uri": "https://localhost:8080/"
        },
        "id": "ru4fyU3Dg0Q4",
        "outputId": "922440b1-0bfc-4baf-9b0f-ebb4b2ca86f4"
      },
      "outputs": [
        {
          "name": "stdout",
          "output_type": "stream",
          "text": [
            "Mounted at /content/drive\n"
          ]
        }
      ],
      "source": [
        "drive.mount(\"/content/drive\", force_remount=True)"
      ]
    },
    {
      "cell_type": "code",
      "execution_count": null,
      "metadata": {
        "id": "7jqvLfeFVx77"
      },
      "outputs": [],
      "source": [
        "from tensorflow.keras.preprocessing.image import ImageDataGenerator             #ImageDataGenerator generates batches of tensor image data with real-time data augmentation or to expand the size of the dataset\n",
        "from tensorflow.keras.applications import MobileNetV2                           #MobileNetV2 is a very effective feature extractor for object detection and segmentation\n",
        "from tensorflow.keras.layers import AveragePooling2D                            #Pooling Layer(average will be taken into consideration and a 2d matrix is taken as filter)\n",
        "from tensorflow.keras.layers import Dropout                                     #To Prevent Neural Networks from Overfitting\n",
        "from tensorflow.keras.layers import Flatten                                     #Flattening the matrix Eg. From 2D -> 1D\n",
        "from tensorflow.keras.layers import Dense                                       #Connected Neural Network\n",
        "from tensorflow.keras.layers import Input                                       #Input() is used to instantiate a Keras tensor.\n",
        "from tensorflow.keras.models import Model                                       #Model groups layers into an object with training and inference features.\n",
        "from tensorflow.keras.optimizers import Adam                                    #activation function\n",
        "from tensorflow.keras.applications.mobilenet_v2 import preprocess_input         #Preprocesses a tensor or Numpy array encoding a batch of images.\n",
        "from tensorflow.keras.preprocessing.image import img_to_array                   #convert image to array\n",
        "from tensorflow.keras.preprocessing.image import load_img                       #used to load image \n",
        "from tensorflow.keras.utils import to_categorical                               #Converts a class vector (integers) to binary class matrix\n",
        "from sklearn.preprocessing import LabelBinarizer                                #sklearn.preprocessing.Binarizer() is a method which belongs to preprocessing module. It plays a key role in the discretization of continuous feature values. link-https://www.geeksforgeeks.org/sklearn-binarizer-in-python/ \n",
        "from sklearn.model_selection import train_test_split\n",
        "from sklearn.metrics import classification_report\n",
        "from imutils import paths                                                       #\n",
        "import matplotlib.pyplot as plt\n",
        "import numpy as np\n",
        "import os                                                                       #"
      ]
    },
    {
      "cell_type": "code",
      "execution_count": null,
      "metadata": {
        "id": "VdMV89EvXIKQ"
      },
      "outputs": [],
      "source": [
        "# initialize the initial learning rate, number of epochs to train for,\n",
        "# and batch size\n",
        "INIT_LR = 1e-4\n",
        "EPOCHS = 20                                                                     #An epoch is a term used in machine learning and indicates the number of passes of the entire training dataset the machine learning algorithm has completed\n",
        "BS = 32"
      ]
    },
    {
      "cell_type": "code",
      "execution_count": null,
      "metadata": {
        "id": "xHO2MMBMXTDn"
      },
      "outputs": [],
      "source": [
        "DIRECTORY = r\"/content/drive/MyDrive/dataset\"\n",
        "CATEGORIES = [\"with_mask\", \"without_mask\"]\n",
        "\n",
        "# grab the list of images in our dataset directory, then initialize\n",
        "# the list of data (i.e., images) and class images\n",
        "print(\"[INFO] loading images...\")\n"
      ]
    },
    {
      "cell_type": "code",
      "execution_count": null,
      "metadata": {
        "id": "dyUObWjLXv6w"
      },
      "outputs": [],
      "source": [
        "data = []\n",
        "labels = []"
      ]
    },
    {
      "cell_type": "code",
      "execution_count": null,
      "metadata": {
        "colab": {
          "base_uri": "https://localhost:8080/"
        },
        "id": "a5_ms8Sdg_8h",
        "outputId": "c72a7b76-2995-4ffb-ad59-b50888f7bcf0"
      },
      "outputs": [
        {
          "name": "stdout",
          "output_type": "stream",
          "text": [
            "Requirement already satisfied: tensorflow>=1.15.2 in /usr/local/lib/python3.7/dist-packages (from -r requirements.txt (line 1)) (2.3.4)\n",
            "Requirement already satisfied: keras==2.3.1 in /usr/local/lib/python3.7/dist-packages (from -r requirements.txt (line 2)) (2.3.1)\n",
            "Requirement already satisfied: imutils==0.5.3 in /usr/local/lib/python3.7/dist-packages (from -r requirements.txt (line 3)) (0.5.3)\n",
            "Requirement already satisfied: numpy==1.18.2 in /usr/local/lib/python3.7/dist-packages (from -r requirements.txt (line 4)) (1.18.2)\n",
            "Requirement already satisfied: opencv-python==4.2.0.* in /usr/local/lib/python3.7/dist-packages (from -r requirements.txt (line 5)) (4.2.0.34)\n",
            "Requirement already satisfied: matplotlib==3.2.1 in /usr/local/lib/python3.7/dist-packages (from -r requirements.txt (line 6)) (3.2.1)\n",
            "Requirement already satisfied: scipy==1.4.1 in /usr/local/lib/python3.7/dist-packages (from -r requirements.txt (line 7)) (1.4.1)\n",
            "Requirement already satisfied: keras-applications>=1.0.6 in /usr/local/lib/python3.7/dist-packages (from keras==2.3.1->-r requirements.txt (line 2)) (1.0.8)\n",
            "Requirement already satisfied: h5py in /usr/local/lib/python3.7/dist-packages (from keras==2.3.1->-r requirements.txt (line 2)) (2.10.0)\n",
            "Requirement already satisfied: pyyaml in /usr/local/lib/python3.7/dist-packages (from keras==2.3.1->-r requirements.txt (line 2)) (3.13)\n",
            "Requirement already satisfied: keras-preprocessing>=1.0.5 in /usr/local/lib/python3.7/dist-packages (from keras==2.3.1->-r requirements.txt (line 2)) (1.1.2)\n",
            "Requirement already satisfied: six>=1.9.0 in /usr/local/lib/python3.7/dist-packages (from keras==2.3.1->-r requirements.txt (line 2)) (1.15.0)\n",
            "Requirement already satisfied: kiwisolver>=1.0.1 in /usr/local/lib/python3.7/dist-packages (from matplotlib==3.2.1->-r requirements.txt (line 6)) (1.3.2)\n",
            "Requirement already satisfied: cycler>=0.10 in /usr/local/lib/python3.7/dist-packages (from matplotlib==3.2.1->-r requirements.txt (line 6)) (0.11.0)\n",
            "Requirement already satisfied: pyparsing!=2.0.4,!=2.1.2,!=2.1.6,>=2.0.1 in /usr/local/lib/python3.7/dist-packages (from matplotlib==3.2.1->-r requirements.txt (line 6)) (3.0.6)\n",
            "Requirement already satisfied: python-dateutil>=2.1 in /usr/local/lib/python3.7/dist-packages (from matplotlib==3.2.1->-r requirements.txt (line 6)) (2.8.2)\n",
            "Requirement already satisfied: protobuf>=3.9.2 in /usr/local/lib/python3.7/dist-packages (from tensorflow>=1.15.2->-r requirements.txt (line 1)) (3.17.3)\n",
            "Requirement already satisfied: tensorflow-estimator<2.4.0,>=2.3.0 in /usr/local/lib/python3.7/dist-packages (from tensorflow>=1.15.2->-r requirements.txt (line 1)) (2.3.0)\n",
            "Requirement already satisfied: tensorboard<3,>=2.3.0 in /usr/local/lib/python3.7/dist-packages (from tensorflow>=1.15.2->-r requirements.txt (line 1)) (2.7.0)\n",
            "Requirement already satisfied: opt-einsum>=2.3.2 in /usr/local/lib/python3.7/dist-packages (from tensorflow>=1.15.2->-r requirements.txt (line 1)) (3.3.0)\n",
            "Requirement already satisfied: wrapt>=1.11.1 in /usr/local/lib/python3.7/dist-packages (from tensorflow>=1.15.2->-r requirements.txt (line 1)) (1.13.3)\n",
            "Requirement already satisfied: wheel>=0.26 in /usr/local/lib/python3.7/dist-packages (from tensorflow>=1.15.2->-r requirements.txt (line 1)) (0.37.0)\n",
            "Requirement already satisfied: gast==0.3.3 in /usr/local/lib/python3.7/dist-packages (from tensorflow>=1.15.2->-r requirements.txt (line 1)) (0.3.3)\n",
            "Requirement already satisfied: google-pasta>=0.1.8 in /usr/local/lib/python3.7/dist-packages (from tensorflow>=1.15.2->-r requirements.txt (line 1)) (0.2.0)\n",
            "Requirement already satisfied: grpcio>=1.8.6 in /usr/local/lib/python3.7/dist-packages (from tensorflow>=1.15.2->-r requirements.txt (line 1)) (1.42.0)\n",
            "Requirement already satisfied: absl-py>=0.7.0 in /usr/local/lib/python3.7/dist-packages (from tensorflow>=1.15.2->-r requirements.txt (line 1)) (0.12.0)\n",
            "Requirement already satisfied: astunparse==1.6.3 in /usr/local/lib/python3.7/dist-packages (from tensorflow>=1.15.2->-r requirements.txt (line 1)) (1.6.3)\n",
            "Requirement already satisfied: termcolor>=1.1.0 in /usr/local/lib/python3.7/dist-packages (from tensorflow>=1.15.2->-r requirements.txt (line 1)) (1.1.0)\n",
            "Requirement already satisfied: google-auth-oauthlib<0.5,>=0.4.1 in /usr/local/lib/python3.7/dist-packages (from tensorboard<3,>=2.3.0->tensorflow>=1.15.2->-r requirements.txt (line 1)) (0.4.6)\n",
            "Requirement already satisfied: tensorboard-data-server<0.7.0,>=0.6.0 in /usr/local/lib/python3.7/dist-packages (from tensorboard<3,>=2.3.0->tensorflow>=1.15.2->-r requirements.txt (line 1)) (0.6.1)\n",
            "Requirement already satisfied: tensorboard-plugin-wit>=1.6.0 in /usr/local/lib/python3.7/dist-packages (from tensorboard<3,>=2.3.0->tensorflow>=1.15.2->-r requirements.txt (line 1)) (1.8.0)\n",
            "Requirement already satisfied: werkzeug>=0.11.15 in /usr/local/lib/python3.7/dist-packages (from tensorboard<3,>=2.3.0->tensorflow>=1.15.2->-r requirements.txt (line 1)) (1.0.1)\n",
            "Requirement already satisfied: setuptools>=41.0.0 in /usr/local/lib/python3.7/dist-packages (from tensorboard<3,>=2.3.0->tensorflow>=1.15.2->-r requirements.txt (line 1)) (57.4.0)\n",
            "Requirement already satisfied: requests<3,>=2.21.0 in /usr/local/lib/python3.7/dist-packages (from tensorboard<3,>=2.3.0->tensorflow>=1.15.2->-r requirements.txt (line 1)) (2.23.0)\n",
            "Requirement already satisfied: google-auth<3,>=1.6.3 in /usr/local/lib/python3.7/dist-packages (from tensorboard<3,>=2.3.0->tensorflow>=1.15.2->-r requirements.txt (line 1)) (1.35.0)\n",
            "Requirement already satisfied: markdown>=2.6.8 in /usr/local/lib/python3.7/dist-packages (from tensorboard<3,>=2.3.0->tensorflow>=1.15.2->-r requirements.txt (line 1)) (3.3.6)\n",
            "Requirement already satisfied: rsa<5,>=3.1.4 in /usr/local/lib/python3.7/dist-packages (from google-auth<3,>=1.6.3->tensorboard<3,>=2.3.0->tensorflow>=1.15.2->-r requirements.txt (line 1)) (4.8)\n",
            "Requirement already satisfied: cachetools<5.0,>=2.0.0 in /usr/local/lib/python3.7/dist-packages (from google-auth<3,>=1.6.3->tensorboard<3,>=2.3.0->tensorflow>=1.15.2->-r requirements.txt (line 1)) (4.2.4)\n",
            "Requirement already satisfied: pyasn1-modules>=0.2.1 in /usr/local/lib/python3.7/dist-packages (from google-auth<3,>=1.6.3->tensorboard<3,>=2.3.0->tensorflow>=1.15.2->-r requirements.txt (line 1)) (0.2.8)\n",
            "Requirement already satisfied: requests-oauthlib>=0.7.0 in /usr/local/lib/python3.7/dist-packages (from google-auth-oauthlib<0.5,>=0.4.1->tensorboard<3,>=2.3.0->tensorflow>=1.15.2->-r requirements.txt (line 1)) (1.3.0)\n",
            "Requirement already satisfied: importlib-metadata>=4.4 in /usr/local/lib/python3.7/dist-packages (from markdown>=2.6.8->tensorboard<3,>=2.3.0->tensorflow>=1.15.2->-r requirements.txt (line 1)) (4.8.2)\n",
            "Requirement already satisfied: typing-extensions>=3.6.4 in /usr/local/lib/python3.7/dist-packages (from importlib-metadata>=4.4->markdown>=2.6.8->tensorboard<3,>=2.3.0->tensorflow>=1.15.2->-r requirements.txt (line 1)) (3.10.0.2)\n",
            "Requirement already satisfied: zipp>=0.5 in /usr/local/lib/python3.7/dist-packages (from importlib-metadata>=4.4->markdown>=2.6.8->tensorboard<3,>=2.3.0->tensorflow>=1.15.2->-r requirements.txt (line 1)) (3.6.0)\n",
            "Requirement already satisfied: pyasn1<0.5.0,>=0.4.6 in /usr/local/lib/python3.7/dist-packages (from pyasn1-modules>=0.2.1->google-auth<3,>=1.6.3->tensorboard<3,>=2.3.0->tensorflow>=1.15.2->-r requirements.txt (line 1)) (0.4.8)\n",
            "Requirement already satisfied: chardet<4,>=3.0.2 in /usr/local/lib/python3.7/dist-packages (from requests<3,>=2.21.0->tensorboard<3,>=2.3.0->tensorflow>=1.15.2->-r requirements.txt (line 1)) (3.0.4)\n",
            "Requirement already satisfied: certifi>=2017.4.17 in /usr/local/lib/python3.7/dist-packages (from requests<3,>=2.21.0->tensorboard<3,>=2.3.0->tensorflow>=1.15.2->-r requirements.txt (line 1)) (2021.10.8)\n",
            "Requirement already satisfied: urllib3!=1.25.0,!=1.25.1,<1.26,>=1.21.1 in /usr/local/lib/python3.7/dist-packages (from requests<3,>=2.21.0->tensorboard<3,>=2.3.0->tensorflow>=1.15.2->-r requirements.txt (line 1)) (1.24.3)\n",
            "Requirement already satisfied: idna<3,>=2.5 in /usr/local/lib/python3.7/dist-packages (from requests<3,>=2.21.0->tensorboard<3,>=2.3.0->tensorflow>=1.15.2->-r requirements.txt (line 1)) (2.10)\n",
            "Requirement already satisfied: oauthlib>=3.0.0 in /usr/local/lib/python3.7/dist-packages (from requests-oauthlib>=0.7.0->google-auth-oauthlib<0.5,>=0.4.1->tensorboard<3,>=2.3.0->tensorflow>=1.15.2->-r requirements.txt (line 1)) (3.1.1)\n"
          ]
        }
      ],
      "source": [
        "!pip install -r requirements.txt"
      ]
    },
    {
      "cell_type": "code",
      "execution_count": null,
      "metadata": {
        "colab": {
          "base_uri": "https://localhost:8080/"
        },
        "id": "92CKqp6YX1-A",
        "outputId": "14e5b1e5-2a36-4d8c-d1da-e5321803fda9"
      },
      "outputs": [
        {
          "name": "stderr",
          "output_type": "stream",
          "text": [
            "/usr/local/lib/python3.7/dist-packages/PIL/Image.py:960: UserWarning: Palette images with Transparency expressed in bytes should be converted to RGBA images\n",
            "  \"Palette images with Transparency expressed in bytes should be \"\n"
          ]
        }
      ],
      "source": [
        "\n",
        "for category in CATEGORIES:\n",
        "    path = os.path.join(DIRECTORY, category)                                    #os.path.join() method in Python join one or more path components intelligently\n",
        "    for img in os.listdir(path):                                                #This method returns the list of all files and directories in the specified path. The return type of this method is list.\n",
        "    \timg_path = os.path.join(path, img)                                        \n",
        "    \timage = load_img(img_path, target_size=(224, 224))                        #\n",
        "    \timage = img_to_array(image)\n",
        "    \timage = preprocess_input(image)                                           #\n",
        "\n",
        "    \tdata.append(image)\n",
        "    \tlabels.append(category)"
      ]
    },
    {
      "cell_type": "code",
      "execution_count": null,
      "metadata": {
        "id": "TJ8NqzXMYSbP"
      },
      "outputs": [],
      "source": [
        "# perform one-hot encoding on the labels\n",
        "lb = LabelBinarizer() \n",
        "labels = lb.fit_transform(labels)                                               \n",
        "#fit_transform() is used on the training data so that we can scale the training data and also learn the scaling parameters of that data\n",
        "labels = to_categorical(labels)\n",
        "#to_categorical() method is used to one-hot encode integer data.\n",
        "\n",
        "data = np.array(data, dtype=\"float32\")\n",
        "labels = np.array(labels)\n",
        "\n",
        "(trainX, testX, trainY, testY) = train_test_split(data, labels,                 #splitting train and test set\n",
        "\ttest_size=0.20, stratify=labels, random_state=42)                             #The 'stratify' parameter comes into handy so that the proportion of values in the sample produced in our test group will be the same as the proportion of values provided to parameter stratify"
      ]
    },
    {
      "cell_type": "code",
      "execution_count": null,
      "metadata": {
        "id": "_uBhyhI_YYe_"
      },
      "outputs": [],
      "source": [
        "# construct the training image generator for data augmentation\n",
        "aug = ImageDataGenerator(\n",
        "\trotation_range=20,\n",
        "\tzoom_range=0.15,\n",
        "\twidth_shift_range=0.2,\n",
        "\theight_shift_range=0.2,\n",
        "\tshear_range=0.15,\n",
        "\thorizontal_flip=True,\n",
        "\tfill_mode=\"nearest\")"
      ]
    },
    {
      "cell_type": "markdown",
      "source": [
        "https://github.com/keras-team/keras-applications/blob/master/keras_applications/mobilenet_v2.py"
      ],
      "metadata": {
        "id": "pVQt1QnJwyuR"
      }
    },
    {
      "cell_type": "code",
      "execution_count": null,
      "metadata": {
        "colab": {
          "base_uri": "https://localhost:8080/"
        },
        "id": "gBZPnEqcYb89",
        "outputId": "7524203e-9dae-4bfa-9350-ac0cb170d8d3"
      },
      "outputs": [
        {
          "name": "stdout",
          "output_type": "stream",
          "text": [
            "WARNING:tensorflow:`input_shape` is undefined or non-square, or `rows` is not in [96, 128, 160, 192, 224]. Weights for input shape (224, 224) will be loaded as the default.\n",
            "Downloading data from https://storage.googleapis.com/tensorflow/keras-applications/mobilenet_v2/mobilenet_v2_weights_tf_dim_ordering_tf_kernels_1.0_224_no_top.h5\n",
            "9412608/9406464 [==============================] - 0s 0us/step\n",
            "9420800/9406464 [==============================] - 0s 0us/step\n"
          ]
        }
      ],
      "source": [
        "# load the MobileNetV2 network, ensuring the head FC layer sets are\n",
        "# left off\n",
        "baseModel = MobileNetV2(weights=\"imagenet\", include_top=False,\n",
        "\tinput_tensor=Input(shape=(224, 224, 3)))"
      ]
    },
    {
      "cell_type": "code",
      "execution_count": null,
      "metadata": {
        "id": "lSD2-VYEYfiu"
      },
      "outputs": [],
      "source": [
        "# construct the head of the model that will be placed on top of the\n",
        "# the base model\n",
        "headModel = baseModel.output\n",
        "headModel = AveragePooling2D(pool_size=(7, 7))(headModel)\n",
        "headModel = Flatten(name=\"flatten\")(headModel)\n",
        "headModel = Dense(128, activation=\"relu\")(headModel)\n",
        "headModel = Dropout(0.5)(headModel)\n",
        "headModel = Dense(2, activation=\"softmax\")(headModel)"
      ]
    },
    {
      "cell_type": "code",
      "execution_count": null,
      "metadata": {
        "id": "dVg68wVFYio-"
      },
      "outputs": [],
      "source": [
        "# place the head FC model on top of the base model (this will become\n",
        "# the actual model we will train)\n",
        "model = Model(inputs=baseModel.input, outputs=headModel)"
      ]
    },
    {
      "cell_type": "code",
      "execution_count": null,
      "metadata": {
        "id": "HaQ_hJzKYoFy"
      },
      "outputs": [],
      "source": [
        "# loop over all layers in the base model and freeze them so they will\n",
        "# *not* be updated during the first training process\n",
        "for layer in baseModel.layers:                                                  #What does freezing a model mean?\n",
        "#Freezing the model means producing a singular file containing information about the graph and checkpoint variables, but saving these hyperparameters as constants within the graph structure\n",
        "\tlayer.trainable = False"
      ]
    },
    {
      "cell_type": "markdown",
      "source": [
        "https://keras.io/api/optimizers/adam/"
      ],
      "metadata": {
        "id": "A_8uKRmn1P8_"
      }
    },
    {
      "cell_type": "markdown",
      "source": [
        " it's very useful to Adam with learning rate decay. Without decay, you have to set a very small learning rate so the loss won't begin to diverge after decrease to a point"
      ],
      "metadata": {
        "id": "XYgPNRhT40Ox"
      }
    },
    {
      "cell_type": "code",
      "execution_count": null,
      "metadata": {
        "colab": {
          "base_uri": "https://localhost:8080/"
        },
        "id": "BedPvMBEYrrU",
        "outputId": "b204852c-51d9-4880-ce42-2a7bdec190a7"
      },
      "outputs": [
        {
          "name": "stdout",
          "output_type": "stream",
          "text": [
            "[INFO] compiling model...\n"
          ]
        },
        {
          "name": "stderr",
          "output_type": "stream",
          "text": [
            "/usr/local/lib/python3.7/dist-packages/keras/optimizer_v2/adam.py:105: UserWarning: The `lr` argument is deprecated, use `learning_rate` instead.\n",
            "  super(Adam, self).__init__(name, **kwargs)\n"
          ]
        }
      ],
      "source": [
        "# compile our model\n",
        "print(\"[INFO] compiling model...\")\n",
        "opt = Adam(lr=INIT_LR, decay=INIT_LR / EPOCHS)                                  \n",
        "model.compile(loss=\"binary_crossentropy\", optimizer=opt,\n",
        "\tmetrics=[\"accuracy\"])"
      ]
    },
    {
      "cell_type": "code",
      "execution_count": null,
      "metadata": {
        "colab": {
          "background_save": true,
          "base_uri": "https://localhost:8080/"
        },
        "id": "zndCt8-UYvZO",
        "outputId": "ed8c08af-6a15-4f54-e25d-8de5ef0da5e2"
      },
      "outputs": [
        {
          "name": "stdout",
          "output_type": "stream",
          "text": [
            "[INFO] training head...\n",
            "Epoch 1/20\n",
            "95/95 [==============================] - 137s 1s/step - loss: 0.3953 - accuracy: 0.8672 - val_loss: 0.1631 - val_accuracy: 0.9739\n",
            "Epoch 2/20\n",
            "95/95 [==============================] - 132s 1s/step - loss: 0.1459 - accuracy: 0.9713 - val_loss: 0.0842 - val_accuracy: 0.9831\n",
            "Epoch 3/20\n",
            "95/95 [==============================] - 131s 1s/step - loss: 0.0905 - accuracy: 0.9786 - val_loss: 0.0612 - val_accuracy: 0.9857\n",
            "Epoch 4/20\n",
            "95/95 [==============================] - 131s 1s/step - loss: 0.0736 - accuracy: 0.9782 - val_loss: 0.0517 - val_accuracy: 0.9870\n",
            "Epoch 5/20\n",
            "95/95 [==============================] - 131s 1s/step - loss: 0.0624 - accuracy: 0.9825 - val_loss: 0.0441 - val_accuracy: 0.9857\n",
            "Epoch 6/20\n",
            "95/95 [==============================] - 132s 1s/step - loss: 0.0585 - accuracy: 0.9825 - val_loss: 0.0407 - val_accuracy: 0.9870\n",
            "Epoch 7/20\n",
            "95/95 [==============================] - 131s 1s/step - loss: 0.0493 - accuracy: 0.9855 - val_loss: 0.0369 - val_accuracy: 0.9883\n",
            "Epoch 8/20\n",
            "95/95 [==============================] - 129s 1s/step - loss: 0.0475 - accuracy: 0.9868 - val_loss: 0.0345 - val_accuracy: 0.9870\n",
            "Epoch 9/20\n",
            "95/95 [==============================] - 129s 1s/step - loss: 0.0448 - accuracy: 0.9875 - val_loss: 0.0336 - val_accuracy: 0.9870\n",
            "Epoch 10/20\n",
            "95/95 [==============================] - 129s 1s/step - loss: 0.0388 - accuracy: 0.9871 - val_loss: 0.0321 - val_accuracy: 0.9883\n",
            "Epoch 11/20\n",
            "95/95 [==============================] - 130s 1s/step - loss: 0.0458 - accuracy: 0.9845 - val_loss: 0.0325 - val_accuracy: 0.9896\n",
            "Epoch 12/20\n",
            "95/95 [==============================] - 131s 1s/step - loss: 0.0377 - accuracy: 0.9891 - val_loss: 0.0289 - val_accuracy: 0.9909\n",
            "Epoch 13/20\n",
            "95/95 [==============================] - 131s 1s/step - loss: 0.0373 - accuracy: 0.9885 - val_loss: 0.0292 - val_accuracy: 0.9883\n",
            "Epoch 14/20\n",
            "95/95 [==============================] - 131s 1s/step - loss: 0.0364 - accuracy: 0.9881 - val_loss: 0.0275 - val_accuracy: 0.9909\n",
            "Epoch 15/20\n",
            "95/95 [==============================] - 131s 1s/step - loss: 0.0359 - accuracy: 0.9908 - val_loss: 0.0266 - val_accuracy: 0.9922\n",
            "Epoch 16/20\n",
            "95/95 [==============================] - 131s 1s/step - loss: 0.0296 - accuracy: 0.9924 - val_loss: 0.0254 - val_accuracy: 0.9922\n",
            "Epoch 17/20\n",
            "95/95 [==============================] - 131s 1s/step - loss: 0.0262 - accuracy: 0.9908 - val_loss: 0.0238 - val_accuracy: 0.9896\n",
            "Epoch 18/20\n",
            "95/95 [==============================] - 131s 1s/step - loss: 0.0299 - accuracy: 0.9901 - val_loss: 0.0233 - val_accuracy: 0.9922\n",
            "Epoch 19/20\n",
            "95/95 [==============================] - 129s 1s/step - loss: 0.0242 - accuracy: 0.9947 - val_loss: 0.0234 - val_accuracy: 0.9922\n",
            "Epoch 20/20\n",
            "95/95 [==============================] - 129s 1s/step - loss: 0.0249 - accuracy: 0.9911 - val_loss: 0.0215 - val_accuracy: 0.9922\n"
          ]
        }
      ],
      "source": [
        "# train the head of the network\n",
        "print(\"[INFO] training head...\")\n",
        "H = model.fit(\n",
        "\taug.flow(trainX, trainY, batch_size=BS),\n",
        "\tsteps_per_epoch=len(trainX) // BS,\n",
        "\tvalidation_data=(testX, testY),\n",
        "\tvalidation_steps=len(testX) // BS,\n",
        "\tepochs=EPOCHS)"
      ]
    },
    {
      "cell_type": "code",
      "execution_count": null,
      "metadata": {
        "id": "bCK0wQVgZEJV"
      },
      "outputs": [],
      "source": [
        "# make predictions on the testing set\n",
        "print(\"[INFO] evaluating network...\")\n",
        "predIdxs = model.predict(testX, batch_size=BS)"
      ]
    },
    {
      "cell_type": "code",
      "execution_count": null,
      "metadata": {
        "colab": {
          "background_save": true
        },
        "id": "pxMurcKjZHXW"
      },
      "outputs": [],
      "source": [
        "# for each image in the testing set we need to find the index of the\n",
        "# label with corresponding largest predicted probability\n",
        "predIdxs = np.argmax(predIdxs, axis=1)"
      ]
    },
    {
      "cell_type": "code",
      "execution_count": null,
      "metadata": {
        "id": "0tXyCt41ZkAp",
        "outputId": "ba079500-11f2-453e-cc1e-2b5f4978e0b3",
        "colab": {
          "base_uri": "https://localhost:8080/"
        }
      },
      "outputs": [
        {
          "output_type": "stream",
          "name": "stdout",
          "text": [
            "              precision    recall  f1-score   support\n",
            "\n",
            "   with_mask       0.99      0.99      0.99       383\n",
            "without_mask       0.99      0.99      0.99       384\n",
            "\n",
            "    accuracy                           0.99       767\n",
            "   macro avg       0.99      0.99      0.99       767\n",
            "weighted avg       0.99      0.99      0.99       767\n",
            "\n"
          ]
        }
      ],
      "source": [
        "# show a nicely formatted classification report\n",
        "print(classification_report(testY.argmax(axis=1), predIdxs,\n",
        "\ttarget_names=lb.classes_))\n"
      ]
    },
    {
      "cell_type": "code",
      "execution_count": null,
      "metadata": {
        "id": "IpwF8gkvZpf8",
        "outputId": "52cc540d-b872-458a-d882-280dc56c625b",
        "colab": {
          "base_uri": "https://localhost:8080/"
        }
      },
      "outputs": [
        {
          "output_type": "stream",
          "name": "stdout",
          "text": [
            "[INFO] saving mask detector model...\n"
          ]
        },
        {
          "output_type": "stream",
          "name": "stderr",
          "text": [
            "/usr/local/lib/python3.7/dist-packages/keras/engine/functional.py:1410: CustomMaskWarning: Custom mask layers require a config and must override get_config. When loading, the custom mask layer must be passed to the custom_objects argument.\n",
            "  layer_config = serialize_layer_fn(layer)\n"
          ]
        }
      ],
      "source": [
        "\n",
        "# serialize the model to disk\n",
        "print(\"[INFO] saving mask detector model...\")\n",
        "model.save(\"mask_detector.model\", save_format=\"h5\")"
      ]
    },
    {
      "cell_type": "code",
      "execution_count": null,
      "metadata": {
        "id": "Zp-Nsut6ZsY9",
        "outputId": "4772a4be-300c-4f6b-efb2-30ba49af98ee",
        "colab": {
          "base_uri": "https://localhost:8080/",
          "height": 299
        }
      },
      "outputs": [
        {
          "output_type": "display_data",
          "data": {
            "image/png": "[encoded data removed]",
            "text/plain": [
              "<Figure size 432x288 with 1 Axes>"
            ]
          },
          "metadata": {}
        }
      ],
      "source": [
        "# plot the training loss and accuracy\n",
        "N = EPOCHS\n",
        "plt.style.use(\"ggplot\")\n",
        "plt.figure()\n",
        "plt.plot(np.arange(0, N), H.history[\"loss\"], label=\"train_loss\")\n",
        "plt.plot(np.arange(0, N), H.history[\"val_loss\"], label=\"val_loss\")\n",
        "plt.plot(np.arange(0, N), H.history[\"accuracy\"], label=\"train_acc\")\n",
        "plt.plot(np.arange(0, N), H.history[\"val_accuracy\"], label=\"val_acc\")\n",
        "plt.title(\"Training Loss and Accuracy\")\n",
        "plt.xlabel(\"Epoch #\")\n",
        "plt.ylabel(\"Loss/Accuracy\")\n",
        "plt.legend(loc=\"lower left\")\n",
        "plt.savefig(\"plot.png\")"
      ]
    }
  ],
  "metadata": {
    "colab": {
      "name": "Mask_detection.ipynb",
      "provenance": []
    },
    "kernelspec": {
      "display_name": "Python 3",
      "name": "python3"
    },
    "language_info": {
      "name": "python"
    }
  },
  "nbformat": 4,
  "nbformat_minor": 0
}